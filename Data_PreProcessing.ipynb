{
 "cells": [
  {
   "cell_type": "code",
   "execution_count": 1,
   "metadata": {},
   "outputs": [],
   "source": [
    "import pandas as pd\n",
    "import numpy as np\n",
    "import seaborn as sns\n",
    "import matplotlib.pyplot as plt\n",
    "from scipy.stats import zscore"
   ]
  },
  {
   "cell_type": "code",
   "execution_count": 2,
   "metadata": {},
   "outputs": [
    {
     "name": "stderr",
     "output_type": "stream",
     "text": [
      "d:\\DataScience\\GUVI\\DataScience_GUVI_Projects\\guviproj_env\\Lib\\site-packages\\ucimlrepo\\fetch.py:97: DtypeWarning: Columns (2,3,4,5,6,7) have mixed types. Specify dtype option on import or set low_memory=False.\n",
      "  df = pd.read_csv(data_url)\n"
     ]
    },
    {
     "name": "stdout",
     "output_type": "stream",
     "text": [
      "{'uci_id': 235, 'name': 'Individual Household Electric Power Consumption', 'repository_url': 'https://archive.ics.uci.edu/dataset/235/individual+household+electric+power+consumption', 'data_url': 'https://archive.ics.uci.edu/static/public/235/data.csv', 'abstract': 'Measurements of electric power consumption in one household with a one-minute sampling rate over a period of almost 4 years. Different electrical quantities and some sub-metering values are available.', 'area': 'Physics and Chemistry', 'tasks': ['Regression', 'Clustering'], 'characteristics': ['Multivariate', 'Time-Series'], 'num_instances': 2075259, 'num_features': 9, 'feature_types': ['Real'], 'demographics': [], 'target_col': None, 'index_col': None, 'has_missing_values': 'no', 'missing_values_symbol': None, 'year_of_dataset_creation': 2006, 'last_updated': 'Fri Mar 08 2024', 'dataset_doi': '10.24432/C58K54', 'creators': ['Georges Hebrail', 'Alice Berard'], 'intro_paper': None, 'additional_info': {'summary': 'This archive contains 2075259 measurements gathered in a house located in Sceaux (7km of Paris, France) between December 2006 and November 2010 (47 months).\\r\\nNotes: \\r\\n1.(global_active_power*1000/60 - sub_metering_1 - sub_metering_2 - sub_metering_3) represents the active energy consumed every minute (in watt hour) in the household by electrical equipment not measured in sub-meterings 1, 2 and 3.\\r\\n2.The dataset contains some missing values in the measurements (nearly 1,25% of the rows). All calendar timestamps are present in the dataset but for some timestamps, the measurement values are missing: a missing value is represented by the absence of value between two consecutive semi-colon attribute separators. For instance, the dataset shows missing values on April 28, 2007.', 'purpose': None, 'funded_by': None, 'instances_represent': None, 'recommended_data_splits': None, 'sensitive_data': None, 'preprocessing_description': None, 'variable_info': '1.date: Date in format dd/mm/yyyy\\r\\n2.time: time in format hh:mm:ss\\r\\n3.global_active_power: household global minute-averaged active power (in kilowatt)\\r\\n4.global_reactive_power: household global minute-averaged reactive power (in kilowatt)\\r\\n5.voltage: minute-averaged voltage (in volt)\\r\\n6.global_intensity: household global minute-averaged current intensity (in ampere)\\r\\n7.sub_metering_1: energy sub-metering No. 1 (in watt-hour of active energy). It corresponds to the kitchen, containing mainly a dishwasher, an oven and a microwave (hot plates are not electric but gas powered).\\r\\n8.sub_metering_2: energy sub-metering No. 2 (in watt-hour of active energy). It corresponds to the laundry room, containing a washing-machine, a tumble-drier, a refrigerator and a light.\\r\\n9.sub_metering_3: energy sub-metering No. 3 (in watt-hour of active energy). It corresponds to an electric water-heater and an air-conditioner.', 'citation': None}}\n",
      "                    name     role         type demographic description units  \\\n",
      "0                   Date  Feature         Date        None        None  None   \n",
      "1                   Time  Feature  Categorical        None        None  None   \n",
      "2    Global_active_power  Feature   Continuous        None        None  None   \n",
      "3  Global_reactive_power  Feature   Continuous        None        None  None   \n",
      "4                Voltage  Feature   Continuous        None        None  None   \n",
      "5       Global_intensity  Feature   Continuous        None        None  None   \n",
      "6         Sub_metering_1  Feature   Continuous        None        None  None   \n",
      "7         Sub_metering_2  Feature   Continuous        None        None  None   \n",
      "8         Sub_metering_3  Feature   Continuous        None        None  None   \n",
      "\n",
      "  missing_values  \n",
      "0             no  \n",
      "1             no  \n",
      "2             no  \n",
      "3             no  \n",
      "4             no  \n",
      "5             no  \n",
      "6             no  \n",
      "7             no  \n",
      "8             no  \n"
     ]
    }
   ],
   "source": [
    "# To import the dataset from the UCI repository.\n",
    "\n",
    "from ucimlrepo import fetch_ucirepo \n",
    "  \n",
    "# fetch dataset \n",
    "individual_household_electric_power_consumption = fetch_ucirepo(id=235) \n",
    "  \n",
    "# data (as pandas dataframes) \n",
    "X = individual_household_electric_power_consumption.data.features \n",
    "y = individual_household_electric_power_consumption.data.targets \n",
    "  \n",
    "# metadata \n",
    "print(individual_household_electric_power_consumption.metadata) \n",
    "  \n",
    "# variable information \n",
    "print(individual_household_electric_power_consumption.variables) \n"
   ]
  },
  {
   "cell_type": "code",
   "execution_count": 3,
   "metadata": {},
   "outputs": [],
   "source": [
    "df = pd.concat([X, y], axis=1)"
   ]
  },
  {
   "cell_type": "code",
   "execution_count": 4,
   "metadata": {},
   "outputs": [
    {
     "data": {
      "text/html": [
       "<div>\n",
       "<style scoped>\n",
       "    .dataframe tbody tr th:only-of-type {\n",
       "        vertical-align: middle;\n",
       "    }\n",
       "\n",
       "    .dataframe tbody tr th {\n",
       "        vertical-align: top;\n",
       "    }\n",
       "\n",
       "    .dataframe thead th {\n",
       "        text-align: right;\n",
       "    }\n",
       "</style>\n",
       "<table border=\"1\" class=\"dataframe\">\n",
       "  <thead>\n",
       "    <tr style=\"text-align: right;\">\n",
       "      <th></th>\n",
       "      <th>Date</th>\n",
       "      <th>Time</th>\n",
       "      <th>Global_active_power</th>\n",
       "      <th>Global_reactive_power</th>\n",
       "      <th>Voltage</th>\n",
       "      <th>Global_intensity</th>\n",
       "      <th>Sub_metering_1</th>\n",
       "      <th>Sub_metering_2</th>\n",
       "      <th>Sub_metering_3</th>\n",
       "    </tr>\n",
       "  </thead>\n",
       "  <tbody>\n",
       "    <tr>\n",
       "      <th>0</th>\n",
       "      <td>16/12/2006</td>\n",
       "      <td>17:24:00</td>\n",
       "      <td>4.216</td>\n",
       "      <td>0.418</td>\n",
       "      <td>234.840</td>\n",
       "      <td>18.400</td>\n",
       "      <td>0.000</td>\n",
       "      <td>1.000</td>\n",
       "      <td>17.0</td>\n",
       "    </tr>\n",
       "    <tr>\n",
       "      <th>1</th>\n",
       "      <td>16/12/2006</td>\n",
       "      <td>17:25:00</td>\n",
       "      <td>5.360</td>\n",
       "      <td>0.436</td>\n",
       "      <td>233.630</td>\n",
       "      <td>23.000</td>\n",
       "      <td>0.000</td>\n",
       "      <td>1.000</td>\n",
       "      <td>16.0</td>\n",
       "    </tr>\n",
       "    <tr>\n",
       "      <th>2</th>\n",
       "      <td>16/12/2006</td>\n",
       "      <td>17:26:00</td>\n",
       "      <td>5.374</td>\n",
       "      <td>0.498</td>\n",
       "      <td>233.290</td>\n",
       "      <td>23.000</td>\n",
       "      <td>0.000</td>\n",
       "      <td>2.000</td>\n",
       "      <td>17.0</td>\n",
       "    </tr>\n",
       "    <tr>\n",
       "      <th>3</th>\n",
       "      <td>16/12/2006</td>\n",
       "      <td>17:27:00</td>\n",
       "      <td>5.388</td>\n",
       "      <td>0.502</td>\n",
       "      <td>233.740</td>\n",
       "      <td>23.000</td>\n",
       "      <td>0.000</td>\n",
       "      <td>1.000</td>\n",
       "      <td>17.0</td>\n",
       "    </tr>\n",
       "    <tr>\n",
       "      <th>4</th>\n",
       "      <td>16/12/2006</td>\n",
       "      <td>17:28:00</td>\n",
       "      <td>3.666</td>\n",
       "      <td>0.528</td>\n",
       "      <td>235.680</td>\n",
       "      <td>15.800</td>\n",
       "      <td>0.000</td>\n",
       "      <td>1.000</td>\n",
       "      <td>17.0</td>\n",
       "    </tr>\n",
       "    <tr>\n",
       "      <th>...</th>\n",
       "      <td>...</td>\n",
       "      <td>...</td>\n",
       "      <td>...</td>\n",
       "      <td>...</td>\n",
       "      <td>...</td>\n",
       "      <td>...</td>\n",
       "      <td>...</td>\n",
       "      <td>...</td>\n",
       "      <td>...</td>\n",
       "    </tr>\n",
       "    <tr>\n",
       "      <th>2075254</th>\n",
       "      <td>26/11/2010</td>\n",
       "      <td>20:58:00</td>\n",
       "      <td>0.946</td>\n",
       "      <td>0.0</td>\n",
       "      <td>240.43</td>\n",
       "      <td>4.0</td>\n",
       "      <td>0.0</td>\n",
       "      <td>0.0</td>\n",
       "      <td>0.0</td>\n",
       "    </tr>\n",
       "    <tr>\n",
       "      <th>2075255</th>\n",
       "      <td>26/11/2010</td>\n",
       "      <td>20:59:00</td>\n",
       "      <td>0.944</td>\n",
       "      <td>0.0</td>\n",
       "      <td>240.0</td>\n",
       "      <td>4.0</td>\n",
       "      <td>0.0</td>\n",
       "      <td>0.0</td>\n",
       "      <td>0.0</td>\n",
       "    </tr>\n",
       "    <tr>\n",
       "      <th>2075256</th>\n",
       "      <td>26/11/2010</td>\n",
       "      <td>21:00:00</td>\n",
       "      <td>0.938</td>\n",
       "      <td>0.0</td>\n",
       "      <td>239.82</td>\n",
       "      <td>3.8</td>\n",
       "      <td>0.0</td>\n",
       "      <td>0.0</td>\n",
       "      <td>0.0</td>\n",
       "    </tr>\n",
       "    <tr>\n",
       "      <th>2075257</th>\n",
       "      <td>26/11/2010</td>\n",
       "      <td>21:01:00</td>\n",
       "      <td>0.934</td>\n",
       "      <td>0.0</td>\n",
       "      <td>239.7</td>\n",
       "      <td>3.8</td>\n",
       "      <td>0.0</td>\n",
       "      <td>0.0</td>\n",
       "      <td>0.0</td>\n",
       "    </tr>\n",
       "    <tr>\n",
       "      <th>2075258</th>\n",
       "      <td>26/11/2010</td>\n",
       "      <td>21:02:00</td>\n",
       "      <td>0.932</td>\n",
       "      <td>0.0</td>\n",
       "      <td>239.55</td>\n",
       "      <td>3.8</td>\n",
       "      <td>0.0</td>\n",
       "      <td>0.0</td>\n",
       "      <td>0.0</td>\n",
       "    </tr>\n",
       "  </tbody>\n",
       "</table>\n",
       "<p>2075259 rows × 9 columns</p>\n",
       "</div>"
      ],
      "text/plain": [
       "               Date      Time Global_active_power Global_reactive_power  \\\n",
       "0        16/12/2006  17:24:00               4.216                 0.418   \n",
       "1        16/12/2006  17:25:00               5.360                 0.436   \n",
       "2        16/12/2006  17:26:00               5.374                 0.498   \n",
       "3        16/12/2006  17:27:00               5.388                 0.502   \n",
       "4        16/12/2006  17:28:00               3.666                 0.528   \n",
       "...             ...       ...                 ...                   ...   \n",
       "2075254  26/11/2010  20:58:00               0.946                   0.0   \n",
       "2075255  26/11/2010  20:59:00               0.944                   0.0   \n",
       "2075256  26/11/2010  21:00:00               0.938                   0.0   \n",
       "2075257  26/11/2010  21:01:00               0.934                   0.0   \n",
       "2075258  26/11/2010  21:02:00               0.932                   0.0   \n",
       "\n",
       "         Voltage Global_intensity Sub_metering_1 Sub_metering_2  \\\n",
       "0        234.840           18.400          0.000          1.000   \n",
       "1        233.630           23.000          0.000          1.000   \n",
       "2        233.290           23.000          0.000          2.000   \n",
       "3        233.740           23.000          0.000          1.000   \n",
       "4        235.680           15.800          0.000          1.000   \n",
       "...          ...              ...            ...            ...   \n",
       "2075254   240.43              4.0            0.0            0.0   \n",
       "2075255    240.0              4.0            0.0            0.0   \n",
       "2075256   239.82              3.8            0.0            0.0   \n",
       "2075257    239.7              3.8            0.0            0.0   \n",
       "2075258   239.55              3.8            0.0            0.0   \n",
       "\n",
       "         Sub_metering_3  \n",
       "0                  17.0  \n",
       "1                  16.0  \n",
       "2                  17.0  \n",
       "3                  17.0  \n",
       "4                  17.0  \n",
       "...                 ...  \n",
       "2075254             0.0  \n",
       "2075255             0.0  \n",
       "2075256             0.0  \n",
       "2075257             0.0  \n",
       "2075258             0.0  \n",
       "\n",
       "[2075259 rows x 9 columns]"
      ]
     },
     "execution_count": 4,
     "metadata": {},
     "output_type": "execute_result"
    }
   ],
   "source": [
    "df"
   ]
  },
  {
   "cell_type": "code",
   "execution_count": 5,
   "metadata": {},
   "outputs": [
    {
     "name": "stdout",
     "output_type": "stream",
     "text": [
      "<class 'pandas.core.frame.DataFrame'>\n",
      "RangeIndex: 2075259 entries, 0 to 2075258\n",
      "Data columns (total 9 columns):\n",
      " #   Column                 Dtype  \n",
      "---  ------                 -----  \n",
      " 0   Date                   object \n",
      " 1   Time                   object \n",
      " 2   Global_active_power    object \n",
      " 3   Global_reactive_power  object \n",
      " 4   Voltage                object \n",
      " 5   Global_intensity       object \n",
      " 6   Sub_metering_1         object \n",
      " 7   Sub_metering_2         object \n",
      " 8   Sub_metering_3         float64\n",
      "dtypes: float64(1), object(8)\n",
      "memory usage: 142.5+ MB\n"
     ]
    }
   ],
   "source": [
    "df.info()"
   ]
  },
  {
   "cell_type": "code",
   "execution_count": 6,
   "metadata": {},
   "outputs": [
    {
     "data": {
      "text/plain": [
       "Index(['Date', 'Time', 'Global_active_power', 'Global_reactive_power',\n",
       "       'Voltage', 'Global_intensity', 'Sub_metering_1', 'Sub_metering_2',\n",
       "       'Sub_metering_3'],\n",
       "      dtype='object')"
      ]
     },
     "execution_count": 6,
     "metadata": {},
     "output_type": "execute_result"
    }
   ],
   "source": [
    "df.columns"
   ]
  },
  {
   "cell_type": "markdown",
   "metadata": {},
   "source": [
    "## Handling Null Values"
   ]
  },
  {
   "cell_type": "code",
   "execution_count": 7,
   "metadata": {},
   "outputs": [
    {
     "data": {
      "text/plain": [
       "Date                         0\n",
       "Time                         0\n",
       "Global_active_power          0\n",
       "Global_reactive_power        0\n",
       "Voltage                      0\n",
       "Global_intensity             0\n",
       "Sub_metering_1               0\n",
       "Sub_metering_2               0\n",
       "Sub_metering_3           25979\n",
       "dtype: int64"
      ]
     },
     "execution_count": 7,
     "metadata": {},
     "output_type": "execute_result"
    }
   ],
   "source": [
    "df.isna().sum()"
   ]
  },
  {
   "cell_type": "code",
   "execution_count": 8,
   "metadata": {},
   "outputs": [
    {
     "name": "stdout",
     "output_type": "stream",
     "text": [
      "Global_active_power\n",
      "6534\n",
      "['4.216' '5.360' '5.374' ... 4.068 3.94 3.74]\n",
      "--------------------------------------\n",
      "Global_reactive_power\n",
      "896\n",
      "['0.418' '0.436' '0.498' '0.502' '0.528' '0.522' '0.520' '0.510' '0.470'\n",
      " '0.478' '0.398' '0.422' '0.282' '0.152' '0.156' '0.000' '0.076' '0.090'\n",
      " '0.200' '0.058' '0.180' '0.144' '0.118' '0.108' '0.202' '0.192' '0.186'\n",
      " '0.116' '0.136' '0.148' '0.160' '0.158' '0.100' '0.082' '0.050' '0.052'\n",
      " '0.162' '0.086' '0.048' '0.054' '0.068' '0.166' '0.174' '0.178' '0.188'\n",
      " '0.088' '0.080' '0.070' '0.084' '0.074' '0.106' '0.092' '0.064' '0.046'\n",
      " '0.138' '0.134' '0.132' '0.120' '0.130' '0.154' '0.078' '0.142' '0.140'\n",
      " '0.146' '0.150' '0.170' '0.102' '0.072' '0.060' '0.056' '0.062' '0.112'\n",
      " '0.066' '0.172' '0.168' '0.194' '0.184' '0.096' '0.164' '0.182' '0.094'\n",
      " '0.098' '0.176' '0.190' '0.204' '0.220' '0.198' '0.208' '0.244' '0.334'\n",
      " '0.298' '0.296' '0.286' '0.278' '0.104' '0.258' '0.238' '0.256' '0.214'\n",
      " '0.230' '0.210' '0.240' '0.124' '0.122' '0.270' '0.302' '0.272' '0.250'\n",
      " '0.294' '0.300' '0.128' '0.126' '0.234' '0.242' '0.316' '0.280' '0.288'\n",
      " '0.224' '0.110' '0.248' '0.254' '0.222' '0.246' '0.216' '0.212' '0.114'\n",
      " '0.206' '0.228' '0.226' '0.196' '0.218' '0.368' '0.338' '0.310' '0.304'\n",
      " '0.292' '0.268' '0.266' '0.260' '0.396' '0.380' '0.400' '0.384' '0.416'\n",
      " '0.404' '0.382' '0.232' '0.314' '0.312' '0.262' '0.252' '0.236' '0.348'\n",
      " '0.342' '0.340' '0.350' '0.504' '0.344' '0.346' '0.366' '0.574' '0.582'\n",
      " '0.370' '0.364' '0.360' '0.362' '0.372' '0.392' '0.354' '0.356' '0.358'\n",
      " '0.402' '0.394' '0.390' '0.386' '0.274' '0.264' '0.324' '0.352' '0.276'\n",
      " '0.306' '0.376' '0.562' '0.440' '0.378' '0.426' '0.450' '0.374' '0.388'\n",
      " '0.284' '0.290' '0.308' '0.318' '0.320' '0.322' '0.326' '0.336' '0.414'\n",
      " '0.408' '0.472' '0.464' '0.462' '0.578' '0.576' '0.580' '0.474' '0.514'\n",
      " '0.646' '0.636' '0.598' '0.586' '0.566' '0.406' '0.430' '0.412' '0.442'\n",
      " '0.452' '0.432' '0.330' '0.328' '0.538' '0.564' '0.552' '0.556' '0.606'\n",
      " '0.424' '0.492' '0.526' '0.512' '0.482' '0.446' '0.332' '?' '0.548'\n",
      " '0.534' '0.532' '0.688' '0.664' '0.660' '0.530' '0.516' '0.572' '0.540'\n",
      " '0.614' '0.568' '0.444' '0.456' '0.448' '0.480' '0.434' '0.438' '0.494'\n",
      " '0.496' '0.468' '0.560' '0.622' '0.570' '0.618' '0.624' '0.466' '0.420'\n",
      " '0.500' '0.602' '0.632' '0.724' '0.706' '0.484' '0.458' '0.428' '0.486'\n",
      " '0.698' '0.708' '0.686' '0.666' '0.658' '0.490' '0.454' '0.640' '0.590'\n",
      " '0.524' '0.634' '0.476' '0.694' '0.700' '0.794' '0.592' '0.460' '0.656'\n",
      " '0.644' '0.488' '0.410' '0.550' '0.616' '0.800' '0.790' '0.788' '0.670'\n",
      " '0.506' '0.600' '0.680' '0.678' '0.682' '0.690' '0.508' '0.604' '0.608'\n",
      " '0.554' '0.518' '0.650' '0.648' '0.642' '0.654' '0.754' '0.750' '0.742'\n",
      " '0.594' '0.536' '0.544' '0.630' '0.542' '0.672' '0.588' '0.596' '0.584'\n",
      " '0.674' '0.726' '0.768' '0.774' '0.712' '0.856' '0.862' '0.848' '0.730'\n",
      " '0.710' '0.662' '0.722' '0.704' '0.546' '0.638' '0.628' '0.620' '0.716'\n",
      " '0.778' '0.702' '0.676' '0.834' '0.802' '0.772' '0.558' '0.626' '0.652'\n",
      " '0.760' '0.780' '0.784' '0.786' '0.792' '0.782' '0.832' '0.842' '0.744'\n",
      " '0.822' '0.612' '0.692' '0.684' '0.874' '0.804' '0.696' '0.610' '0.718'\n",
      " '0.732' '0.720' '0.748' '0.796' '0.736' '0.820' '0.808' '0.756' '0.776'\n",
      " '0.806' '0.764' '0.818' '0.770' '0.758' '0.858' '0.860' '0.850' '0.752'\n",
      " '0.714' '0.840' '0.830' '0.838' '0.738' '0.828' '0.740' '0.746' '0.988'\n",
      " '0.966' '0.960' '0.956' '0.854' '0.912' '0.734' '0.728' '0.826' '0.880'\n",
      " '0.878' '0.876' '0.930' '0.986' '0.972' '0.946' '0.902' '1.046' '1.148'\n",
      " '1.054' '0.890' '0.668' '1.092' '0.996' '0.974' '1.040' '1.060' '1.028'\n",
      " '0.908' '0.898' '0.950' '0.964' '0.940' '0.928' '0.896' '0.868' '0.870'\n",
      " '0.866' '0.864' '0.872' '0.812' '0.836' '0.824' '0.814' '0.762' '0.994'\n",
      " '1.032' '0.816' '0.944' '0.968' '0.916' '1.014' '1.008' '1.002' '0.810'\n",
      " '1.000' '1.006' '1.012' '1.034' '0.852' '0.924' '0.942' '0.982' '0.906'\n",
      " '0.932' '0.914' '0.846' '0.844' '1.222' '1.190' '1.180' '1.118' '1.082'\n",
      " '1.080' '0.910' '1.102' '1.274' '1.364' '1.390' '0.918' '1.198' '1.192'\n",
      " '0.936' '0.954' '0.980' '0.990' '0.904' '0.798' '0.766' '1.090' '1.016'\n",
      " '0.922' '1.036' '0.892' '0.894' '0.900' '0.886' '1.096' '0.920' '0.962'\n",
      " '0.958' '0.998' '1.044' '1.048' '0.938' '0.934' '1.130' '1.218' '0.888'\n",
      " '0.882' '1.156' '1.024' '1.088' '1.084' '1.076' '1.066' '1.070' '1.240'\n",
      " '0.926' '0.952' '0.884' '1.186' '1.108' '1.030' '1.020' '0.978' '0.970'\n",
      " '0.948' '1.064' '1.078' '1.074' '1.124' '1.018' '0.976' '1.038' '1.094'\n",
      " '1.100' '1.026' 0.0 0.084 0.086 0.088 0.082 0.07 0.062 0.064 0.06 0.066\n",
      " 0.046 0.076 0.078 0.048 0.08 0.068 0.072 0.16 0.188 0.102 0.216 0.214\n",
      " 0.212 0.094 0.058 0.334 0.408 0.4 0.47 0.56 0.634 0.638 0.64 0.65 0.656\n",
      " 0.574 0.242 0.232 0.23 0.15 0.074 0.22 0.278 0.322 0.32 0.324 0.254 0.204\n",
      " 0.154 0.218 0.112 0.2 0.196 0.126 0.056 0.05 0.052 0.092 0.09 0.054 0.114\n",
      " 0.116 0.11 0.108 0.104 0.1 0.106 0.096 0.098 0.146 0.332 0.314 0.236 0.54\n",
      " 0.466 0.458 0.424 0.33 0.328 0.318 0.298 0.302 0.306 0.3 0.29 0.198 0.206\n",
      " 0.122 0.21 0.24 0.312 0.31 0.316 0.296 0.19 0.194 0.144 0.304 0.398 0.454\n",
      " 0.444 0.376 0.374 0.378 0.294 0.138 0.336 0.342 0.34 0.338 0.244 0.228\n",
      " 0.234 0.222 0.308 0.286 0.202 0.208 0.17 0.136 0.266 0.264 0.268 0.256\n",
      " 0.26 0.262 0.258 0.25 0.18 0.134 0.284 0.344 0.348 0.174 0.248 0.246\n",
      " 0.238 0.226 0.164 0.224 0.184 0.142 0.132 0.128 0.148 0.13 0.124 0.12\n",
      " 0.158 0.252 0.272 0.192 0.182 0.288 0.382 0.166 0.162 0.118 0.186 0.406\n",
      " 0.478 0.156 0.14 0.152 0.326 0.366 0.5 0.506 0.514 0.518 0.524 0.52 0.528\n",
      " 0.526 0.522 0.178 0.176 0.168 0.172 0.422 0.556 0.492 0.426 0.558 0.776\n",
      " 0.87 0.83 0.744 0.486 0.396 0.362 0.356 0.358 0.372 0.37 0.276 0.274\n",
      " 0.282 0.27 0.412 0.472 0.438 0.434 0.436 0.428 0.364 0.414 0.55 0.652\n",
      " 0.646 0.644 0.648 0.554 0.392 0.368 0.354 0.394 0.39 0.292 0.826 0.912\n",
      " 0.9 1.012 0.442 0.828 0.956 0.914 1.066 1.108 0.894 0.844 0.758 0.756\n",
      " 0.468 0.72 0.738 0.734 0.552 0.534 0.388 0.474 0.622 0.642 0.624 0.626\n",
      " 0.35 0.494 0.46 0.38 0.36 0.548 0.542 0.546 0.544 0.504 0.41 0.402 0.28\n",
      " 0.416 0.432 0.43 0.564 0.404 0.456 0.464 0.532 0.6 0.598 0.576 0.578\n",
      " 0.582 0.462 0.476 0.508 0.352 0.512 0.51 0.516 0.418 0.42 0.536 0.384\n",
      " 0.452 0.448 0.45 0.386 0.346 0.572 0.654 0.662 0.658 0.664 0.668 0.636\n",
      " 0.606 0.77 0.618 0.82 0.818 0.71 0.588 0.58 0.584 0.496 0.502 0.482 0.48\n",
      " 0.498 0.488 0.632 0.484 0.568 0.566 0.614 0.66 0.762 0.764 0.628 0.604\n",
      " 0.686 0.7 0.698 0.704 0.49 0.84 0.834 0.726 0.716 0.708 0.706 0.712 0.44\n",
      " 0.538 0.732 0.674 0.562 0.666 0.586 0.67 0.672 0.728 0.74 0.62 0.79 0.592\n",
      " 0.57 0.602 0.722 0.724 0.68 0.59 0.594 0.808 0.802 0.772 0.446 0.684\n",
      " 0.678 0.796 0.798 0.696 0.692 0.69]\n",
      "--------------------------------------\n",
      "Voltage\n",
      "5168\n",
      "['234.840' '233.630' '233.290' ... 228.57 229.09 230.31]\n",
      "--------------------------------------\n",
      "Global_intensity\n",
      "377\n",
      "['18.400' '23.000' '15.800' '15.000' '19.600' '23.200' '22.400' '22.600'\n",
      " '17.600' '14.200' '13.800' '14.400' '16.400' '25.400' '33.200' '30.600'\n",
      " '22.000' '19.400' '13.600' '13.400' '11.600' '19.200' '10.400' '11.800'\n",
      " '11.000' '21.000' '26.200' '29.000' '27.800' '27.000' '19.000' '9.600'\n",
      " '10.000' '21.400' '17.800' '12.000' '12.400' '15.200' '20.800' '15.600'\n",
      " '26.400' '18.800' '13.000' '9.800' '9.200' '13.200' '18.000' '10.800'\n",
      " '10.600' '18.200' '17.000' '17.400' '14.800' '14.600' '15.400' '14.000'\n",
      " '8.400' '9.400' '7.800' '8.200' '8.600' '11.400' '12.600' '9.000' '7.600'\n",
      " '12.800' '7.400' '5.600' '4.600' '7.200' '1.600' '2.400' '2.800' '1.200'\n",
      " '4.400' '4.000' '10.200' '6.800' '5.200' '6.000' '6.600' '8.000' '2.000'\n",
      " '4.800' '5.400' '16.600' '3.000' '1.800' '8.800' '1.400' '21.800'\n",
      " '20.200' '16.000' '18.600' '16.800' '11.200' '2.600' '16.200' '4.200'\n",
      " '7.000' '3.800' '3.200' '5.000' '3.600' '0.800' '5.800' '1.000' '6.400'\n",
      " '6.200' '3.400' '2.200' '12.200' '30.000' '29.400' '28.200' '25.800'\n",
      " '20.000' '24.800' '24.600' '25.200' '25.000' '23.400' '23.800' '20.600'\n",
      " '21.600' '19.800' '20.400' '26.600' '17.200' '21.200' '23.600' '29.200'\n",
      " '33.600' '28.000' '30.200' '33.400' '24.200' '24.000' '22.200' '24.400'\n",
      " '22.800' '?' '30.400' '34.200' '32.800' '33.000' '32.600' '31.600'\n",
      " '28.600' '25.600' '31.000' '28.400' '27.200' '29.800' '29.600' '37.000'\n",
      " '36.800' '32.400' '27.400' '35.000' '34.800' '32.200' '26.000' '35.200'\n",
      " '36.200' '27.600' '26.800' '34.400' '31.400' '30.800' '31.200' '39.000'\n",
      " '39.200' '39.400' '28.800' '38.800' '35.600' '32.000' '33.800' '36.000'\n",
      " '37.200' '34.000' '31.800' '36.600' '40.400' '37.400' '38.200' '36.400'\n",
      " '35.400' '34.600' '35.800' '38.000' '40.200' '41.000' '41.400' '41.200'\n",
      " '41.800' '38.600' '44.400' '46.400' '43.200' '39.800' '40.800' '0.600'\n",
      " '0.400' '37.800' '40.600' '38.400' '42.000' '42.200' '39.600' '42.600'\n",
      " '44.200' '37.600' '40.000' '0.200' '44.600' '43.400' '43.000' '45.800'\n",
      " '48.400' 2.6 2.4 2.2 1.6 1.4 1.8 2.0 4.0 4.4 5.0 5.4 5.6 5.8 2.8 3.0 3.2\n",
      " 6.0 6.2 6.4 6.6 3.4 7.8 7.4 8.0 4.2 1.2 1.0 13.6 15.6 9.0 3.8 4.8 4.6 3.6\n",
      " 7.0 6.8 11.8 10.8 10.2 10.4 10.6 10.0 9.8 8.4 8.2 8.6 9.4 11.0 11.2 11.6\n",
      " 7.2 8.8 9.2 7.6 16.6 16.2 15.8 9.6 15.4 14.2 18.6 18.8 16.0 16.4 11.4\n",
      " 12.0 14.8 13.2 14.0 19.0 22.4 22.2 20.6 14.6 13.4 12.2 12.4 12.6 13.8\n",
      " 12.8 14.4 15.2 5.2 17.0 17.8 21.6 15.0 20.8 17.2 16.8 13.0 19.2 21.4 19.8\n",
      " 19.4 20.0 18.0 17.6 18.4 20.4 20.2 21.0 19.6 22.0 23.4 24.6 24.8 25.8\n",
      " 25.0 25.2 25.4 26.4 34.0 33.8 33.0 23.6 25.6 24.4 17.4 23.8 24.2 18.2\n",
      " 21.2 23.0 27.8 28.8 22.8 26.8 21.8 22.6 26.6 27.0 28.0 28.2 24.0 29.4\n",
      " 31.6 33.2 30.4 30.6 31.0 37.2 43.0 42.8 38.2 27.2 29.2 30.2 29.6 27.6\n",
      " 30.0 29.0 28.4 27.4 23.2 26.0]\n",
      "--------------------------------------\n",
      "Sub_metering_1\n",
      "153\n",
      "['0.000' '1.000' '2.000' '6.000' '37.000' '36.000' '38.000' '25.000'\n",
      " '12.000' '11.000' '9.000' '4.000' '33.000' '5.000' '34.000' '8.000'\n",
      " '26.000' '27.000' '15.000' '20.000' '21.000' '23.000' '16.000' '10.000'\n",
      " '39.000' '32.000' '?' '19.000' '35.000' '30.000' '40.000' '7.000'\n",
      " '31.000' '17.000' '3.000' '29.000' '24.000' '14.000' '41.000' '53.000'\n",
      " '76.000' '75.000' '77.000' '74.000' '28.000' '68.000' '58.000' '62.000'\n",
      " '13.000' '18.000' '22.000' '64.000' '71.000' '56.000' '72.000' '45.000'\n",
      " '42.000' '59.000' '66.000' '43.000' '44.000' '48.000' '46.000' '73.000'\n",
      " '55.000' '60.000' '70.000' '63.000' '67.000' '47.000' '65.000' '51.000'\n",
      " '50.000' '69.000' '78.000' '57.000' '49.000' '61.000' '52.000' '54.000'\n",
      " '79.000' '80.000' '81.000' '82.000' '83.000' '84.000' '88.000' '86.000'\n",
      " '87.000' 0.0 1.0 2.0 40.0 39.0 9.0 10.0 34.0 25.0 38.0 37.0 23.0 33.0\n",
      " 32.0 27.0 24.0 22.0 21.0 20.0 18.0 19.0 13.0 31.0 29.0 17.0 16.0 15.0\n",
      " 14.0 3.0 42.0 12.0 28.0 36.0 47.0 48.0 5.0 35.0 4.0 6.0 11.0 53.0 54.0\n",
      " 52.0 43.0 63.0 76.0 80.0 81.0 72.0 60.0 79.0 70.0 45.0 30.0 44.0 46.0 8.0\n",
      " 26.0 49.0 7.0 51.0 41.0 50.0 57.0]\n",
      "--------------------------------------\n",
      "Sub_metering_2\n",
      "145\n",
      "['1.000' '2.000' '0.000' '16.000' '37.000' '36.000' '22.000' '12.000'\n",
      " '27.000' '20.000' '9.000' '4.000' '3.000' '5.000' '13.000' '35.000'\n",
      " '28.000' '26.000' '24.000' '21.000' '17.000' '33.000' '25.000' '23.000'\n",
      " '18.000' '30.000' '31.000' '7.000' '38.000' '29.000' '50.000' '71.000'\n",
      " '59.000' '62.000' '70.000' '40.000' '34.000' '8.000' '15.000' '6.000'\n",
      " '32.000' '19.000' '14.000' '49.000' '72.000' '73.000' '61.000' '39.000'\n",
      " '42.000' '10.000' '56.000' '11.000' '?' '43.000' '67.000' '63.000'\n",
      " '53.000' '65.000' '52.000' '69.000' '48.000' '74.000' '41.000' '47.000'\n",
      " '58.000' '68.000' '64.000' '75.000' '46.000' '57.000' '60.000' '66.000'\n",
      " '44.000' '78.000' '77.000' '76.000' '51.000' '55.000' '45.000' '54.000'\n",
      " '79.000' '80.000' 0.0 1.0 2.0 36.0 40.0 39.0 41.0 23.0 10.0 6.0 5.0 18.0\n",
      " 37.0 28.0 38.0 9.0 13.0 26.0 31.0 30.0 24.0 4.0 3.0 16.0 32.0 12.0 35.0\n",
      " 56.0 64.0 73.0 72.0 74.0 75.0 71.0 21.0 8.0 20.0 7.0 33.0 34.0 60.0 22.0\n",
      " 19.0 42.0 43.0 69.0 49.0 27.0 65.0 62.0 25.0 17.0 11.0 70.0 63.0 29.0\n",
      " 54.0 61.0 68.0 66.0 67.0 51.0 15.0]\n",
      "--------------------------------------\n",
      "Sub_metering_3\n",
      "32\n",
      "[17. 16. 18.  9.  0.  5. 19. 10. 20.  8.  4.  2.  3. 11. 13.  6. 15. nan\n",
      " 12.  1. 14.  7. 23. 25. 26. 28. 27. 21. 22. 29. 24. 30. 31.]\n",
      "--------------------------------------\n"
     ]
    }
   ],
   "source": [
    "Float_columns = ['Global_active_power', 'Global_reactive_power', 'Voltage', 'Global_intensity', 'Sub_metering_1', 'Sub_metering_2', 'Sub_metering_3']\n",
    "\n",
    "for col in Float_columns:\n",
    "    print(col)\n",
    "    print(df[col].nunique())\n",
    "    print(df[col].unique())\n",
    "    print('--------------------------------------')"
   ]
  },
  {
   "cell_type": "code",
   "execution_count": 9,
   "metadata": {},
   "outputs": [],
   "source": [
    "for col in Float_columns:\n",
    "    try: \n",
    "        df[col] = df[col].str.replace('?','' )\n",
    "    except:\n",
    "        pass"
   ]
  },
  {
   "cell_type": "code",
   "execution_count": 10,
   "metadata": {},
   "outputs": [
    {
     "data": {
      "text/plain": [
       "Date                         0\n",
       "Time                         0\n",
       "Global_active_power      43643\n",
       "Global_reactive_power    43643\n",
       "Voltage                  43643\n",
       "Global_intensity         43643\n",
       "Sub_metering_1           43643\n",
       "Sub_metering_2           43643\n",
       "Sub_metering_3           25979\n",
       "dtype: int64"
      ]
     },
     "execution_count": 10,
     "metadata": {},
     "output_type": "execute_result"
    }
   ],
   "source": [
    "df.isna().sum()"
   ]
  },
  {
   "cell_type": "code",
   "execution_count": 11,
   "metadata": {},
   "outputs": [],
   "source": [
    "df.dropna(inplace = True)"
   ]
  },
  {
   "cell_type": "code",
   "execution_count": 12,
   "metadata": {},
   "outputs": [],
   "source": [
    "df.reset_index(drop = True ,inplace = True)"
   ]
  },
  {
   "cell_type": "code",
   "execution_count": 13,
   "metadata": {},
   "outputs": [
    {
     "data": {
      "text/plain": [
       "Date                     0\n",
       "Time                     0\n",
       "Global_active_power      0\n",
       "Global_reactive_power    0\n",
       "Voltage                  0\n",
       "Global_intensity         0\n",
       "Sub_metering_1           0\n",
       "Sub_metering_2           0\n",
       "Sub_metering_3           0\n",
       "dtype: int64"
      ]
     },
     "execution_count": 13,
     "metadata": {},
     "output_type": "execute_result"
    }
   ],
   "source": [
    "df.isna().sum()"
   ]
  },
  {
   "cell_type": "markdown",
   "metadata": {},
   "source": [
    "## Duplicates Row Check"
   ]
  },
  {
   "cell_type": "code",
   "execution_count": 14,
   "metadata": {},
   "outputs": [
    {
     "data": {
      "text/plain": [
       "np.int64(0)"
      ]
     },
     "execution_count": 14,
     "metadata": {},
     "output_type": "execute_result"
    }
   ],
   "source": [
    "df.duplicated().sum()"
   ]
  },
  {
   "cell_type": "markdown",
   "metadata": {},
   "source": [
    "## Columns DataType Convertion"
   ]
  },
  {
   "cell_type": "code",
   "execution_count": 15,
   "metadata": {},
   "outputs": [
    {
     "name": "stderr",
     "output_type": "stream",
     "text": [
      "C:\\Users\\gkama\\AppData\\Local\\Temp\\ipykernel_7844\\2263964175.py:1: UserWarning: Parsing dates in %d/%m/%Y format when dayfirst=False (the default) was specified. Pass `dayfirst=True` or specify a format to silence this warning.\n",
      "  df['Date'] = pd.to_datetime(df['Date'], errors='coerce')\n"
     ]
    }
   ],
   "source": [
    "df['Date'] = pd.to_datetime(df['Date'], errors='coerce')"
   ]
  },
  {
   "cell_type": "code",
   "execution_count": 16,
   "metadata": {},
   "outputs": [
    {
     "name": "stderr",
     "output_type": "stream",
     "text": [
      "C:\\Users\\gkama\\AppData\\Local\\Temp\\ipykernel_7844\\479537049.py:1: UserWarning: Could not infer format, so each element will be parsed individually, falling back to `dateutil`. To ensure parsing is consistent and as-expected, please specify a format.\n",
      "  df['Time'] = pd.to_datetime(df['Time'], errors='coerce')\n"
     ]
    }
   ],
   "source": [
    "df['Time'] = pd.to_datetime(df['Time'], errors='coerce')"
   ]
  },
  {
   "cell_type": "code",
   "execution_count": 17,
   "metadata": {},
   "outputs": [
    {
     "name": "stdout",
     "output_type": "stream",
     "text": [
      "Sub_metering_3\n"
     ]
    }
   ],
   "source": [
    "Float_columns = ['Global_active_power', 'Global_reactive_power', 'Voltage', 'Global_intensity', 'Sub_metering_1', 'Sub_metering_2', 'Sub_metering_3']\n",
    "\n",
    "for i in Float_columns:\n",
    "    try:\n",
    "        df[i] = df[i].str.replace('?', '0')\n",
    "        df[i] = df[i].astype(float)\n",
    "    except:\n",
    "        print(i)"
   ]
  },
  {
   "cell_type": "code",
   "execution_count": 18,
   "metadata": {},
   "outputs": [
    {
     "name": "stdout",
     "output_type": "stream",
     "text": [
      "<class 'pandas.core.frame.DataFrame'>\n",
      "RangeIndex: 2005637 entries, 0 to 2005636\n",
      "Data columns (total 9 columns):\n",
      " #   Column                 Dtype         \n",
      "---  ------                 -----         \n",
      " 0   Date                   datetime64[ns]\n",
      " 1   Time                   datetime64[ns]\n",
      " 2   Global_active_power    float64       \n",
      " 3   Global_reactive_power  float64       \n",
      " 4   Voltage                float64       \n",
      " 5   Global_intensity       float64       \n",
      " 6   Sub_metering_1         float64       \n",
      " 7   Sub_metering_2         float64       \n",
      " 8   Sub_metering_3         float64       \n",
      "dtypes: datetime64[ns](2), float64(7)\n",
      "memory usage: 137.7 MB\n"
     ]
    }
   ],
   "source": [
    "df.info()"
   ]
  },
  {
   "cell_type": "markdown",
   "metadata": {},
   "source": [
    "## Detecting Outliers by various method"
   ]
  },
  {
   "cell_type": "markdown",
   "metadata": {},
   "source": [
    "1) Boxplot Method"
   ]
  },
  {
   "cell_type": "code",
   "execution_count": 19,
   "metadata": {},
   "outputs": [
    {
     "data": {
      "image/png": "[encoded data removed]",
      "text/plain": [
       "<Figure size 400x200 with 1 Axes>"
      ]
     },
     "metadata": {},
     "output_type": "display_data"
    },
    {
     "data": {
      "image/png": "[encoded data removed]",
      "text/plain": [
       "<Figure size 400x200 with 1 Axes>"
      ]
     },
     "metadata": {},
     "output_type": "display_data"
    },
    {
     "data": {
      "image/png": "[encoded data removed]",
      "text/plain": [
       "<Figure size 400x200 with 1 Axes>"
      ]
     },
     "metadata": {},
     "output_type": "display_data"
    },
    {
     "data": {
      "image/png": "[encoded data removed]",
      "text/plain": [
       "<Figure size 400x200 with 1 Axes>"
      ]
     },
     "metadata": {},
     "output_type": "display_data"
    },
    {
     "data": {
      "image/png": "[encoded data removed]",
      "text/plain": [
       "<Figure size 400x200 with 1 Axes>"
      ]
     },
     "metadata": {},
     "output_type": "display_data"
    },
    {
     "data": {
      "image/png": "[encoded data removed]",
      "text/plain": [
       "<Figure size 400x200 with 1 Axes>"
      ]
     },
     "metadata": {},
     "output_type": "display_data"
    },
    {
     "data": {
      "image/png": "[encoded data removed]",
      "text/plain": [
       "<Figure size 400x200 with 1 Axes>"
      ]
     },
     "metadata": {},
     "output_type": "display_data"
    }
   ],
   "source": [
    "# ✅ Visualizing Outliers using Boxplot\n",
    "for i in Float_columns:\n",
    "    plt.figure(figsize=(4, 2))\n",
    "    sns.boxplot(data=df[i])\n",
    "    plt.title(f\"Boxplot of {i} column (Before Outlier Removal)\")\n",
    "    plt.show()"
   ]
  },
  {
   "cell_type": "markdown",
   "metadata": {},
   "source": [
    "2) Z-Score Method"
   ]
  },
  {
   "cell_type": "code",
   "execution_count": null,
   "metadata": {},
   "outputs": [],
   "source": []
  },
  {
   "cell_type": "markdown",
   "metadata": {},
   "source": [
    "## Feature Engineering"
   ]
  },
  {
   "cell_type": "code",
   "execution_count": null,
   "metadata": {},
   "outputs": [],
   "source": []
  }
 ],
 "metadata": {
  "kernelspec": {
   "display_name": "guviproj_env",
   "language": "python",
   "name": "python3"
  },
  "language_info": {
   "codemirror_mode": {
    "name": "ipython",
    "version": 3
   },
   "file_extension": ".py",
   "mimetype": "text/x-python",
   "name": "python",
   "nbconvert_exporter": "python",
   "pygments_lexer": "ipython3",
   "version": "3.13.0"
  }
 },
 "nbformat": 4,
 "nbformat_minor": 2
}
